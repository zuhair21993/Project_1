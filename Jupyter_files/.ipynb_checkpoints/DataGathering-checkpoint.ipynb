{
 "cells": [
  {
   "cell_type": "markdown",
   "metadata": {},
   "source": [
    "# Importing Dependencies"
   ]
  },
  {
   "cell_type": "code",
   "execution_count": 1,
   "metadata": {},
   "outputs": [],
   "source": [
    "%matplotlib notebook\n",
    "%matplotlib inline"
   ]
  },
  {
   "cell_type": "code",
   "execution_count": 2,
   "metadata": {},
   "outputs": [],
   "source": [
    "import os\n",
    "import glob\n",
    "import csv\n",
    "import pandas as pd\n",
    "import numpy as np\n",
    "import matplotlib.pyplot as plt\n",
    "from scipy.stats import linregress\n",
    "import requests\n",
    "import zipfile"
   ]
  },
  {
   "cell_type": "markdown",
   "metadata": {},
   "source": [
    "# Downloading Files "
   ]
  },
  {
   "cell_type": "code",
   "execution_count": null,
   "metadata": {},
   "outputs": [],
   "source": [
    "#Downloading Large number of files from website\n",
    "#https://www.youtube.com/watch?v=z0gguhEmWiY\n",
    "\n",
    "def zip_download(query_url, out_file):\n",
    "    r = requests.get(query_url)\n",
    "    with open('data.zip', 'wb') as f:\n",
    "        f.write(r.content)\n",
    "        f.close()\n",
    "    with zipfile.ZipFile('data.zip', 'r') as data_zip:\n",
    "        data_zip.extractall(out_file)\n",
    "\n",
    "#Downloading Ozone Gas Data\n",
    "for i in range(2009, 2020):\n",
    "    url_1 = \"https://aqs.epa.gov/aqsweb/airdata/daily_44201_{}.zip\".format(i)\n",
    "    out_file_1 = \"../Resources/daily_gases_data/ozone/\"\n",
    "    zip_download(url_1, out_file_1)\n",
    "    \n",
    "#Downloading SO2 Gas Data\n",
    "for i in range(2009, 2020):\n",
    "    url_2 = \"https://aqs.epa.gov/aqsweb/airdata/daily_42401_{}.zip\".format(i)\n",
    "    out_file_2 = \"../Resources/daily_gases_data/SO2/\"\n",
    "    zip_download(url_2, out_file_2)\n",
    "    \n",
    "#Downloading CO Gas Data\n",
    "for i in range(2009, 2020):\n",
    "    url_3 = \"https://aqs.epa.gov/aqsweb/airdata/daily_42101_{}.zip\".format(i)\n",
    "    out_file_3 = \"../Resources/daily_gases_data/CO/\"\n",
    "    zip_download(url_3, out_file_3)\n",
    "\n",
    "#Downloading NO2 Gas Data\n",
    "for i in range(2009, 2020):\n",
    "    url_4 = \"https://aqs.epa.gov/aqsweb/airdata/daily_42602_{}.zip\".format(i)\n",
    "    out_file_4 = \"../Resources/daily_gases_data/NO2/\"\n",
    "    zip_download(url_4, out_file_4)\n",
    "\n",
    "#Downloading Annual Summary Data by county\n",
    "for i in range(1980, 2020):\n",
    "    url_5 = \"https://aqs.epa.gov/aqsweb/airdata/annual_aqi_by_county_{}.zip\".format(i)\n",
    "    out_file_5= \"../Resources/annual_aqi_county/\"\n",
    "    zip_download(url_5, out_file_5)\n"
   ]
  },
  {
   "cell_type": "markdown",
   "metadata": {},
   "source": [
    "# Concatenation of large number of CSV Files"
   ]
  },
  {
   "cell_type": "code",
   "execution_count": null,
   "metadata": {},
   "outputs": [],
   "source": [
    "# Concatenating AQI Files for the last 40 years\n",
    "#https://www.youtube.com/watch?v=KoRT-v0SzMs\n",
    "\n",
    "def concatenate(indir, outfile):\n",
    "    os.chdir(indir)\n",
    "    fileList = glob.glob(\"*.csv\")\n",
    "    dfList = []\n",
    "    for filename in fileList:\n",
    "        #print(filename) \"commented out to avoid being printed on terminal\"\n",
    "        df = pd.read_csv(filename)\n",
    "        dfList.append(df)\n",
    "    concatDF = pd.concat(dfList, axis=0)\n",
    "    concatDF.to_csv(outfile, index=None)\n",
    "    \n",
    "aqi_dir = \"C:/BootCamp resources/Class work/Project _1/Still_Breathing-Project_1-/Resources/annual_aqi_county\"\n",
    "aqi_output = \"C:/BootCamp resources/Class work/Project _1/Still_Breathing-Project_1-/Output/aqi_compiled.csv\"\n",
    "concatenate(aqi_dir, aqi_output)\n",
    "\n",
    "ozone_dir = \"C:/BootCamp resources/Class work/Project _1/Still_Breathing-Project_1-/Resources/daily_gases_data/ozone\"\n",
    "ozone_output = \"C:/BootCamp resources/Class work/Project _1/Still_Breathing-Project_1-/Output/ozone_compiled.csv\"\n",
    "concatenate(ozone_dir, ozone_output)\n",
    "\n",
    "so2_dir = \"C:/BootCamp resources/Class work/Project _1/Still_Breathing-Project_1-/Resources/daily_gases_data/SO2\"\n",
    "so2_output = \"C:/BootCamp resources/Class work/Project _1/Still_Breathing-Project_1-/Output/so2_compiled.csv\"\n",
    "concatenate(so2_dir, so2_output)\n",
    "\n",
    "co_dir = \"C:/BootCamp resources/Class work/Project _1/Still_Breathing-Project_1-/Resources/daily_gases_data/CO\"\n",
    "co_output = \"C:/BootCamp resources/Class work/Project _1/Still_Breathing-Project_1-/Output/co_compiled.csv\"\n",
    "concatenate(co_dir, co_output)\n",
    "\n",
    "no2_dir = \"C:/BootCamp resources/Class work/Project _1/Still_Breathing-Project_1-/Resources/daily_gases_data/NO2\"\n",
    "no2_output = \"C:/BootCamp resources/Class work/Project _1/Still_Breathing-Project_1-/Output/no2_compiled.csv\"\n",
    "concatenate(no2_dir, no2_output)\n",
    "\n",
    "emission_dir = \"C:/BootCamp resources/Class work/Project _1/Still_Breathing-Project_1-/Resources/emissions_by_state\"\n",
    "emission_output = \"C:/BootCamp resources/Class work/Project _1/Still_Breathing-Project_1-/Output/emissions_compiled.csv\"\n",
    "concatenate(emission_dir, emission_output)\n"
   ]
  }
 ],
 "metadata": {
  "kernelspec": {
   "display_name": "Python 3",
   "language": "python",
   "name": "python3"
  },
  "language_info": {
   "codemirror_mode": {
    "name": "ipython",
    "version": 3
   },
   "file_extension": ".py",
   "mimetype": "text/x-python",
   "name": "python",
   "nbconvert_exporter": "python",
   "pygments_lexer": "ipython3",
   "version": "3.6.9"
  }
 },
 "nbformat": 4,
 "nbformat_minor": 2
}
