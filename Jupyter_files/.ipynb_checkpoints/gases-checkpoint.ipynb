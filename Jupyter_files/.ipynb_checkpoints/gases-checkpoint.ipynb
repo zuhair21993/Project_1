{
 "cells": [
  {
   "cell_type": "markdown",
   "metadata": {},
   "source": [
    "# Importing Dependancies"
   ]
  },
  {
   "cell_type": "code",
   "execution_count": 1,
   "metadata": {},
   "outputs": [],
   "source": [
    "%matplotlib notebook \n",
    "%matplotlib inline\n",
    "\n",
    "import os\n",
    "import csv\n",
    "import random\n",
    "import string\n",
    "import pandas as pd\n",
    "import numpy as np\n",
    "import matplotlib.pyplot as plt\n",
    "import requests\n",
    "import zipfile\n",
    "from scipy.stats import linregress\n",
    "import glob"
   ]
  },
  {
   "cell_type": "markdown",
   "metadata": {},
   "source": [
    "# Reading Files & Creating DataFrames"
   ]
  },
  {
   "cell_type": "code",
   "execution_count": 2,
   "metadata": {},
   "outputs": [],
   "source": [
    "#Air Quality Index DataFrame\n",
    "aqi_df = pd.read_csv(\"../Output/aqi_compiled.csv\")"
   ]
  },
  {
   "cell_type": "code",
   "execution_count": null,
   "metadata": {},
   "outputs": [],
   "source": [
    "#Gases DataFrame\n",
    "co_df = pd.read_csv(\"../Output/co_compiled.csv\")\n",
    "no2_df = pd.read_csv(\"../Output/no2_compiled.csv\")\n",
    "ozone_df = pd.read_csv(\"../Output/ozone_compiled.csv\")\n",
    "so2_df = pd.read_csv(\"../Output/so2_compiled.csv\")"
   ]
  },
  {
   "cell_type": "code",
   "execution_count": null,
   "metadata": {},
   "outputs": [],
   "source": [
    "no2_df = pd.read_csv(\"../Output/no2_compiled.csv\")"
   ]
  },
  {
   "cell_type": "code",
   "execution_count": null,
   "metadata": {},
   "outputs": [],
   "source": [
    "Tristate_no2_data = no2_df.loc[(no2_df[\"State Name\"]==\"Connecticut\")|(no2_df[\"State Name\"]==\"New York\")|(no2_df[\"State Name\"]==\"New Jersey\")&(no2_df[\"Date Local\"]>\"1/1/2010\")]"
   ]
  },
  {
   "cell_type": "code",
   "execution_count": null,
   "metadata": {},
   "outputs": [],
   "source": [
    "Tristate_no2_data[\"State Name\"].value_counts()"
   ]
  },
  {
   "cell_type": "code",
   "execution_count": null,
   "metadata": {
    "scrolled": true
   },
   "outputs": [],
   "source": [
    "Tristate_no2_data"
   ]
  },
  {
   "cell_type": "code",
   "execution_count": null,
   "metadata": {
    "scrolled": true
   },
   "outputs": [],
   "source": [
    "Tristate_no2_data[\"Date Local\"] = pd.to_datetime(Tristate_no2_data[\"Date Local\"])\n",
    "Tristate_no2_data[\"Year\"] = Tristate_no2_data[\"Date Local\"].values.astype(\"datetime64[Y]\")\n",
    "Tristate_no2_data[\"Year\"] = pd.DatetimeIndex(Tristate_no2_data['Date Local']).year\n",
    "Tristate_no2_data[\"Year\"]"
   ]
  },
  {
   "cell_type": "code",
   "execution_count": null,
   "metadata": {},
   "outputs": [],
   "source": [
    "no2_data = Tristate_no2_data[[\"Year\",\"Arithmetic Mean\", \"AQI\", \"State Name\"]]\n",
    "no2_data.reset_index(inplace=True, drop=True)\n",
    "no2_data.head()"
   ]
  },
  {
   "cell_type": "code",
   "execution_count": null,
   "metadata": {},
   "outputs": [],
   "source": [
    "no2 = no2_data.groupby([\"State Name\", \"Year\"])[\"Arithmetic Mean\"].mean()\n",
    "no2_mean_df= pd.DataFrame(no2)\n",
    "no2_mean_df\n",
    "#no2_mean_df= no2_mean_df.set_index(\"State Name\", drop=True, inplace=True)\n",
    "#no2_mean_df.head()\n",
    "#no2_mean_df.set_index(\"State Name\")"
   ]
  },
  {
   "cell_type": "code",
   "execution_count": null,
   "metadata": {},
   "outputs": [],
   "source": [
    "no2_data.to_csv(\"../Output/Summary_no2_data.csv\")"
   ]
  },
  {
   "cell_type": "code",
   "execution_count": null,
   "metadata": {},
   "outputs": [],
   "source": [
    "no2_1 = no2_data.groupby([\"State Name\", \"Year\"]).sem()[\"Arithmetic Mean\"]\n",
    "no2_sem_df= pd.DataFrame(no2_1)\n",
    "no2_sem_df= no2_sem_df.reset_index()\n",
    "no2_sem_df.head()"
   ]
  },
  {
   "cell_type": "code",
   "execution_count": null,
   "metadata": {},
   "outputs": [],
   "source": [
    "no2_mean_pivot = no2_data.pivot_table(index=\"Year\",values=\"Arithmetic Mean\", columns=\"State Name\")\n",
    "no2_mean_pivot"
   ]
  },
  {
   "cell_type": "code",
   "execution_count": null,
   "metadata": {},
   "outputs": [],
   "source": [
    "no2_sem_pivot = no2_sem_df.pivot_table(index=\"Year\",values=\"Arithmetic Mean\", columns=\"State Name\")\n",
    "no2_sem_pivot"
   ]
  },
  {
   "cell_type": "code",
   "execution_count": null,
   "metadata": {},
   "outputs": [],
   "source": [
    "fig, ax = plt.subplots()\n",
    "ax.plot(no2_mean_pivot[\"Connecticut\"])\n",
    "ax.plot(no2_mean_pivot[\"New Jersey\"])\n",
    "ax.plot(no2_mean_pivot[\"New York\"])\n",
    "ax.set_prop_cycle('color', [\"red\",\"blue\" , \"green\" , \"black\" ])\n",
    "no2_mean_pivot.plot(figsize=(6,4), style=['o-', '^-', 's-.', 'd--'],markersize=5,linestyle=':',linewidth=0.75 , ax=ax)\n",
    "plt.title(\"Average Concentration no2 (ppb)\")\n",
    "plt.xlabel(\"Year\")\n",
    "plt.ylabel(\"Concentration\")\n",
    "plt.grid(b=None, which='major', axis='y')\n"
   ]
  },
  {
   "cell_type": "code",
   "execution_count": null,
   "metadata": {},
   "outputs": [],
   "source": [
    "ax = no2_mean_pivot.plot(figsize=(8,8), color=[\"red\",\"blue\",\"green\",\"black\"], yerr = no2_sem_pivot, legend = False)\n",
    "ax.set_prop_cycle('color', [\"red\",\"blue\" , \"green\" , \"black\" ])\n",
    "no2_mean_pivot.plot(figsize=(8,8), style=['o-', '^-', 's-.', 'd--'],markersize=8,linewidth=1 , ax=ax)\n",
    "# Set a Title and labels\n",
    "plt.title(\"Average Concentration no2 (ppb)\")\n",
    "plt.xlabel(\"Year\")\n",
    "plt.ylabel(\"Concentration\")\n",
    "plt.grid(b=None)\n",
    "plt.show()"
   ]
  },
  {
   "cell_type": "code",
   "execution_count": null,
   "metadata": {},
   "outputs": [],
   "source": [
    "so2_df = pd.read_csv(\"../Output/so2_compiled.csv\")"
   ]
  },
  {
   "cell_type": "code",
   "execution_count": null,
   "metadata": {},
   "outputs": [],
   "source": [
    "Tristate_so2_data = so2_df.loc[(so2_df[\"State Name\"]==\"Connecticut\")|(so2_df[\"State Name\"]==\"New York\")|(so2_df[\"State Name\"]==\"New Jersey\")&(so2_df[\"Date Local\"]>\"1/1/2010\")]"
   ]
  },
  {
   "cell_type": "code",
   "execution_count": null,
   "metadata": {},
   "outputs": [],
   "source": [
    "Tristate_so2_data[\"State Name\"].value_counts()"
   ]
  },
  {
   "cell_type": "code",
   "execution_count": null,
   "metadata": {},
   "outputs": [],
   "source": [
    "Tristate_so2_data"
   ]
  },
  {
   "cell_type": "code",
   "execution_count": null,
   "metadata": {},
   "outputs": [],
   "source": [
    "Tristate_so2_data[\"Date Local\"] = pd.to_datetime(Tristate_so2_data[\"Date Local\"])\n",
    "Tristate_so2_data[\"Year\"] = Tristate_so2_data[\"Date Local\"].values.astype(\"datetime64[Y]\")\n",
    "Tristate_so2_data[\"Year\"] = pd.DatetimeIndex(Tristate_so2_data['Date Local']).year\n",
    "Tristate_so2_data[\"Year\"]"
   ]
  },
  {
   "cell_type": "code",
   "execution_count": null,
   "metadata": {},
   "outputs": [],
   "source": [
    "so2_data = Tristate_so2_data[[\"Year\",\"Arithmetic Mean\", \"AQI\", \"State Name\"]]\n",
    "so2_data.reset_index(inplace=True, drop=True)\n",
    "so2_data.head()"
   ]
  },
  {
   "cell_type": "code",
   "execution_count": null,
   "metadata": {},
   "outputs": [],
   "source": [
    "so2 = so2_data.groupby([\"State Name\", \"Year\"])[\"Arithmetic Mean\"].mean()\n",
    "so2_mean_df= pd.DataFrame(so2)\n",
    "so2_mean_df\n",
    "#so2_mean_df= so2_mean_df.set_index(\"State Name\", drop=True, inplace=True)\n",
    "#so2_mean_df.head()\n",
    "#so2_mean_df.set_index(\"State Name\")"
   ]
  },
  {
   "cell_type": "code",
   "execution_count": null,
   "metadata": {},
   "outputs": [],
   "source": [
    "so2_1 = so2_data.groupby([\"State Name\", \"Year\"]).sem()[\"Arithmetic Mean\"]\n",
    "so2_sem_df= pd.DataFrame(so2_1)\n",
    "so2_sem_df= so2_sem_df.reset_index()\n",
    "so2_sem_df.head()"
   ]
  },
  {
   "cell_type": "code",
   "execution_count": null,
   "metadata": {},
   "outputs": [],
   "source": [
    "so2_mean_pivot = so2_data.pivot_table(index=\"Year\",values=\"Arithmetic Mean\", columns=\"State Name\")\n",
    "so2_mean_pivot"
   ]
  },
  {
   "cell_type": "code",
   "execution_count": null,
   "metadata": {},
   "outputs": [],
   "source": [
    "so2_sem_pivot = so2_sem_df.pivot_table(index=\"Year\",values=\"Arithmetic Mean\", columns=\"State Name\")\n",
    "so2_sem_pivot"
   ]
  },
  {
   "cell_type": "code",
   "execution_count": null,
   "metadata": {},
   "outputs": [],
   "source": [
    "fig, ax = plt.subplots()\n",
    "ax.plot(so2_mean_pivot[\"Connecticut\"])\n",
    "ax.plot(so2_mean_pivot[\"New Jersey\"])\n",
    "ax.plot(so2_mean_pivot[\"New York\"])\n",
    "ax.set_prop_cycle('color', [\"red\",\"blue\" , \"green\" , \"black\" ])\n",
    "so2_mean_pivot.plot(figsize=(6,4), style=['o-', '^-', 's-.', 'd--'],markersize=5,linestyle=':',linewidth=0.75 , ax=ax)\n",
    "plt.title(\"Average Concentration so2 (ppm)\")\n",
    "plt.xlabel(\"Year\")\n",
    "plt.ylabel(\"Concentration\")\n",
    "plt.grid(b=None, which='major', axis='y')"
   ]
  },
  {
   "cell_type": "code",
   "execution_count": null,
   "metadata": {},
   "outputs": [],
   "source": [
    "ax = so2_mean_pivot.plot(figsize=(8,8), color=[\"red\",\"blue\",\"green\",\"black\"], yerr = so2_sem_pivot, legend = False)\n",
    "ax.set_prop_cycle('color', [\"red\",\"blue\" , \"green\" , \"black\" ])\n",
    "so2_mean_pivot.plot(figsize=(8,8), style=['o-', '^-', 's-.', 'd--'],markersize=8,linewidth=1 , ax=ax)\n",
    "# Set a Title and labels\n",
    "plt.title(\"Average Concentration no2 (ppb)\")\n",
    "plt.xlabel(\"Year\")\n",
    "plt.ylabel(\"Concentration\")\n",
    "plt.grid(b=None)\n",
    "plt.show()"
   ]
  },
  {
   "cell_type": "code",
   "execution_count": null,
   "metadata": {},
   "outputs": [],
   "source": [
    "so2_data.to_csv(\"../Output/Summary_so2_data.csv\")"
   ]
  },
  {
   "cell_type": "code",
   "execution_count": null,
   "metadata": {},
   "outputs": [],
   "source": [
    "co_df = pd.read_csv(\"../Output/co_compiled.csv\")"
   ]
  },
  {
   "cell_type": "code",
   "execution_count": null,
   "metadata": {},
   "outputs": [],
   "source": [
    "Tristate_co_data = co_df.loc[(co_df[\"State Name\"]==\"Connecticut\")|(co_df[\"State Name\"]==\"New York\")|(co_df[\"State Name\"]==\"New Jersey\")&(co_df[\"Date Local\"]>\"1/1/2010\")]"
   ]
  },
  {
   "cell_type": "code",
   "execution_count": null,
   "metadata": {},
   "outputs": [],
   "source": [
    "Tristate_co_data[\"State Name\"].value_counts()"
   ]
  },
  {
   "cell_type": "code",
   "execution_count": null,
   "metadata": {},
   "outputs": [],
   "source": [
    "Tristate_co_data"
   ]
  },
  {
   "cell_type": "code",
   "execution_count": null,
   "metadata": {},
   "outputs": [],
   "source": [
    "Tristate_co_data[\"Date Local\"] = pd.to_datetime(Tristate_co_data[\"Date Local\"])\n",
    "Tristate_co_data[\"Year\"] = Tristate_co_data[\"Date Local\"].values.astype(\"datetime64[Y]\")\n",
    "Tristate_co_data[\"Year\"] = pd.DatetimeIndex(Tristate_co_data['Date Local']).year\n",
    "Tristate_co_data[\"Year\"]"
   ]
  },
  {
   "cell_type": "code",
   "execution_count": null,
   "metadata": {},
   "outputs": [],
   "source": [
    "co_data = Tristate_co_data[[\"Year\",\"Arithmetic Mean\", \"AQI\", \"State Name\"]]\n",
    "co_data.reset_index(inplace=True, drop=True)\n",
    "co_data.head()"
   ]
  },
  {
   "cell_type": "code",
   "execution_count": null,
   "metadata": {},
   "outputs": [],
   "source": [
    "co = co_data.groupby([\"State Name\", \"Year\"])[\"Arithmetic Mean\"].mean()\n",
    "co_mean_df= pd.DataFrame(co)\n",
    "co_mean_df\n",
    "#co_mean_df= so2_mean_df.set_index(\"State Name\", drop=True, inplace=True)\n",
    "#co_mean_df.head()\n",
    "#co_mean_df.set_index(\"State Name\")"
   ]
  },
  {
   "cell_type": "code",
   "execution_count": null,
   "metadata": {},
   "outputs": [],
   "source": [
    "co_1 = co_data.groupby([\"State Name\", \"Year\"]).sem()[\"Arithmetic Mean\"]\n",
    "co_sem_df= pd.DataFrame(co_1)\n",
    "co_sem_df= co_sem_df.reset_index()\n",
    "co_sem_df.head()"
   ]
  },
  {
   "cell_type": "code",
   "execution_count": null,
   "metadata": {},
   "outputs": [],
   "source": [
    "co_mean_pivot = co_data.pivot_table(index=\"Year\",values=\"Arithmetic Mean\", columns=\"State Name\")\n",
    "co_mean_pivot"
   ]
  },
  {
   "cell_type": "code",
   "execution_count": null,
   "metadata": {},
   "outputs": [],
   "source": [
    "co_sem_pivot = co_sem_df.pivot_table(index=\"Year\",values=\"Arithmetic Mean\", columns=\"State Name\")\n",
    "co_sem_pivot"
   ]
  },
  {
   "cell_type": "code",
   "execution_count": null,
   "metadata": {},
   "outputs": [],
   "source": [
    "fig, ax = plt.subplots()\n",
    "ax.plot(co_mean_pivot[\"Connecticut\"])\n",
    "ax.plot(co_mean_pivot[\"New Jersey\"])\n",
    "ax.plot(co_mean_pivot[\"New York\"])\n",
    "ax.set_prop_cycle('color', [\"red\",\"blue\" , \"green\" , \"black\" ])\n",
    "co_mean_pivot.plot(figsize=(6,4), style=['o-', '^-', 's-.', 'd--'],markersize=5,linestyle=':',linewidth=0.75 , ax=ax)\n",
    "plt.title(\"Average Concentration co (ppm)\")\n",
    "plt.xlabel(\"Year\")\n",
    "plt.ylabel(\"Concentration\")\n",
    "plt.grid(b=None, which='major', axis='y')"
   ]
  },
  {
   "cell_type": "code",
   "execution_count": null,
   "metadata": {},
   "outputs": [],
   "source": [
    "ax = co_mean_pivot.plot(figsize=(8,8), color=[\"red\",\"blue\",\"green\",\"black\"], yerr = co_sem_pivot, legend = False)\n",
    "ax.set_prop_cycle('color', [\"red\",\"blue\" , \"green\" , \"black\" ])\n",
    "co_mean_pivot.plot(figsize=(8,8), style=['o-', '^-', 's-.', 'd--'],markersize=8,linewidth=1 , ax=ax)\n",
    "# Set a Title and labels\n",
    "plt.title(\"Average Concentration no2 (ppb)\")\n",
    "plt.xlabel(\"Year\")\n",
    "plt.ylabel(\"Concentration\")\n",
    "plt.grid(b=None)\n",
    "plt.show()"
   ]
  },
  {
   "cell_type": "code",
   "execution_count": null,
   "metadata": {},
   "outputs": [],
   "source": [
    "co_data.to_csv(\"../Output/Summary_co_data.csv\")"
   ]
  },
  {
   "cell_type": "code",
   "execution_count": null,
   "metadata": {},
   "outputs": [],
   "source": [
    "ozone_df = pd.read_csv(\"../Output/ozone_compiled.csv\")"
   ]
  },
  {
   "cell_type": "code",
   "execution_count": null,
   "metadata": {},
   "outputs": [],
   "source": [
    "Tristate_ozone_data = ozone_df.loc[(ozone_df[\"State Name\"]==\"Connecticut\")|(ozone_df[\"State Name\"]==\"New York\")|(ozone_df[\"State Name\"]==\"New Jersey\")&(ozone_df[\"Date Local\"]>\"1/1/2010\")]"
   ]
  },
  {
   "cell_type": "code",
   "execution_count": null,
   "metadata": {},
   "outputs": [],
   "source": [
    "Tristate_ozone_data[\"State Name\"].value_counts()"
   ]
  },
  {
   "cell_type": "code",
   "execution_count": null,
   "metadata": {},
   "outputs": [],
   "source": [
    "Tristate_ozone_data"
   ]
  },
  {
   "cell_type": "code",
   "execution_count": null,
   "metadata": {},
   "outputs": [],
   "source": [
    "Tristate_ozone_data[\"Date Local\"] = pd.to_datetime(Tristate_ozone_data[\"Date Local\"])\n",
    "Tristate_ozone_data[\"Year\"] = Tristate_ozone_data[\"Date Local\"].values.astype(\"datetime64[Y]\")\n",
    "Tristate_ozone_data[\"Year\"] = pd.DatetimeIndex(Tristate_ozone_data['Date Local']).year\n",
    "Tristate_ozone_data[\"Year\"]"
   ]
  },
  {
   "cell_type": "code",
   "execution_count": null,
   "metadata": {},
   "outputs": [],
   "source": [
    "ozone_data = Tristate_ozone_data[[\"Year\",\"Arithmetic Mean\", \"AQI\", \"State Name\"]]\n",
    "ozone_data.reset_index(inplace=True, drop=True)\n",
    "ozone_data.head()"
   ]
  },
  {
   "cell_type": "code",
   "execution_count": null,
   "metadata": {},
   "outputs": [],
   "source": [
    "ozone = ozone_data.groupby([\"State Name\", \"Year\"])[\"Arithmetic Mean\"].mean()\n",
    "ozone_mean_df= pd.DataFrame(co)\n",
    "ozone_mean_df\n",
    "#ozone_mean_df= ozone_mean_df.set_index(\"State Name\", drop=True, inplace=True)\n",
    "#ozone_mean_df.head()\n",
    "#ozone_mean_df.set_index(\"State Name\")"
   ]
  },
  {
   "cell_type": "code",
   "execution_count": null,
   "metadata": {},
   "outputs": [],
   "source": [
    "ozone_1 = ozone_data.groupby([\"State Name\", \"Year\"]).sem()[\"Arithmetic Mean\"]\n",
    "ozone_sem_df= pd.DataFrame(ozone_1)\n",
    "ozone_sem_df= ozone_sem_df.reset_index()\n",
    "ozone_sem_df.head()"
   ]
  },
  {
   "cell_type": "code",
   "execution_count": null,
   "metadata": {},
   "outputs": [],
   "source": [
    "ozone_mean_pivot = ozone_data.pivot_table(index=\"Year\",values=\"Arithmetic Mean\", columns=\"State Name\")\n",
    "ozone_mean_pivot"
   ]
  },
  {
   "cell_type": "code",
   "execution_count": null,
   "metadata": {},
   "outputs": [],
   "source": [
    "ozone_sem_pivot = ozone_sem_df.pivot_table(index=\"Year\",values=\"Arithmetic Mean\", columns=\"State Name\")\n",
    "ozone_sem_pivot"
   ]
  },
  {
   "cell_type": "code",
   "execution_count": null,
   "metadata": {},
   "outputs": [],
   "source": [
    "fig, ax = plt.subplots()\n",
    "ax.plot(ozone_mean_pivot[\"Connecticut\"])\n",
    "ax.plot(ozone_mean_pivot[\"New Jersey\"])\n",
    "ax.plot(ozone_mean_pivot[\"New York\"])\n",
    "ax.set_prop_cycle('color', [\"red\",\"blue\" , \"green\" , \"black\" ])\n",
    "ozone_mean_pivot.plot(figsize=(6,4), style=['o-', '^-', 's-.', 'd--'],markersize=5,linestyle=':',linewidth=0.75 , ax=ax)\n",
    "plt.title(\"Average Concentration ozone (ppm)\")\n",
    "plt.xlabel(\"Year\")\n",
    "plt.ylabel(\"Concentration\")\n",
    "plt.grid(b=None, which='major', axis='y')"
   ]
  },
  {
   "cell_type": "code",
   "execution_count": null,
   "metadata": {},
   "outputs": [],
   "source": [
    "ax = ozone_mean_pivot.plot(figsize=(8,8), color=[\"red\",\"blue\",\"green\",\"black\"], yerr = ozone_sem_pivot, legend = False)\n",
    "ax.set_prop_cycle('color', [\"red\",\"blue\" , \"green\" , \"black\" ])\n",
    "ozone_mean_pivot.plot(figsize=(8,8), style=['o-', '^-', 's-.', 'd--'],markersize=8,linewidth=1 , ax=ax)\n",
    "# Set a Title and labels\n",
    "plt.title(\"Average Concentration no2 (ppb)\")\n",
    "plt.xlabel(\"Year\")\n",
    "plt.ylabel(\"Concentration\")\n",
    "plt.grid(b=None)\n",
    "plt.show()"
   ]
  },
  {
   "cell_type": "code",
   "execution_count": null,
   "metadata": {},
   "outputs": [],
   "source": [
    "ozone_data.to_csv(\"../Output/Summary_ozone_data.csv\")"
   ]
  },
  {
   "cell_type": "code",
   "execution_count": null,
   "metadata": {},
   "outputs": [],
   "source": [
    "#Emissions DataFrame\n",
    "emission_df = pd.read_csv(\"../Output/emissions_compiled.csv\")"
   ]
  },
  {
   "cell_type": "code",
   "execution_count": null,
   "metadata": {},
   "outputs": [],
   "source": [
    "nata_summary = pd.read_csv(\"../Output/NATA_assessment_results_by_hazards/nata2014v2_national_allhi.csv\")\n",
    "nata_cancer = pd.read_csv(\"../Output/NATA_assessment_results_by_hazards/nata2014v2_national_cancerrisk_by_tract_poll.csv\")\n",
    "nata_immune = pd.read_csv(\"../Output/NATA_assessment_results_by_hazards/nata2014v2_national_immuhi_by_tract_poll.csv\")\n",
    "nata_kidney = pd.read_csv(\"../Output/NATA_assessment_results_by_hazards/nata2014v2_national_kidnhi_by_tract_poll.csv\")\n",
    "nata_liver = pd.read_csv(\"../Output/NATA_assessment_results_by_hazards/nata2014v2_national_liverhi_by_tract_poll.csv\")\n",
    "nata_neuro = pd.read_csv(\"../Output/NATA_assessment_results_by_hazards/nata2014v2_national_neurhi_by_tract_poll.csv\")\n",
    "nata_respiratory = pd.read_csv(\"../Output/NATA_assessment_results_by_hazards/nata2014v2_national_resphi_by_tract_poll.csv\")\n"
   ]
  },
  {
   "cell_type": "markdown",
   "metadata": {},
   "source": [
    "# Analysis & Workings"
   ]
  },
  {
   "cell_type": "code",
   "execution_count": null,
   "metadata": {},
   "outputs": [],
   "source": []
  },
  {
   "cell_type": "code",
   "execution_count": null,
   "metadata": {},
   "outputs": [],
   "source": [
    "  "
   ]
  }
 ],
 "metadata": {
  "kernelspec": {
   "display_name": "Python 3",
   "language": "python",
   "name": "python3"
  },
  "language_info": {
   "codemirror_mode": {
    "name": "ipython",
    "version": 3
   },
   "file_extension": ".py",
   "mimetype": "text/x-python",
   "name": "python",
   "nbconvert_exporter": "python",
   "pygments_lexer": "ipython3",
   "version": "3.6.9"
  }
 },
 "nbformat": 4,
 "nbformat_minor": 2
}
