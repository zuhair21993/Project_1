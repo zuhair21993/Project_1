{
 "cells": [
  {
   "cell_type": "markdown",
   "metadata": {},
   "source": [
    "# Importing Dependancies"
   ]
  },
  {
   "cell_type": "code",
   "execution_count": 1,
   "metadata": {},
   "outputs": [],
   "source": [
    "%matplotlib notebook \n",
    "%matplotlib inline\n",
    "\n",
    "import os\n",
    "import csv\n",
    "import random\n",
    "import string\n",
    "import pandas as pd\n",
    "import numpy as np\n",
    "import matplotlib.pyplot as plt\n",
    "import requests\n",
    "import zipfile\n",
    "from scipy.stats import linregress\n",
    "import glob"
   ]
  },
  {
   "cell_type": "markdown",
   "metadata": {},
   "source": [
    "# Reading Files & Creating DataFrames"
   ]
  },
  {
   "cell_type": "code",
   "execution_count": null,
   "metadata": {},
   "outputs": [],
   "source": [
    "#Air Quality Index DataFrame\n",
    "aqi_df = pd.read_csv(\"../Output/aqi_compiled.csv\")"
   ]
  },
  {
   "cell_type": "code",
   "execution_count": null,
   "metadata": {},
   "outputs": [],
   "source": [
    "#Gases DataFrame\n",
    "co_df = pd.read_csv(\"../Output/co_compiled.csv\")\n",
    "no2_df = pd.read_csv(\"../Output/no2_compiled.csv\")\n",
    "ozone_df = pd.read_csv(\"../Output/ozone_compiled.csv\")\n",
    "so2_df = pd.read_csv(\"../Output/so2_compiled.csv\")"
   ]
  },
  {
   "cell_type": "code",
   "execution_count": null,
   "metadata": {},
   "outputs": [],
   "source": [
    "#Emissions DataFrame\n",
    "emission_df = pd.read_csv(\"../Output/emissions_compiled.csv\")"
   ]
  },
  {
   "cell_type": "code",
   "execution_count": null,
   "metadata": {},
   "outputs": [],
   "source": [
    "nata_summary = pd.read_csv(\"../Output/NATA_assessment_results_by_hazards/nata2014v2_national_allhi.csv\")\n",
    "nata_cancer = pd.read_csv(\"../Output/NATA_assessment_results_by_hazards/nata2014v2_national_cancerrisk_by_tract_poll.csv\")\n",
    "nata_immune = pd.read_csv(\"../Output/NATA_assessment_results_by_hazards/nata2014v2_national_immuhi_by_tract_poll.csv\")\n",
    "nata_kidney = pd.read_csv(\"../Output/NATA_assessment_results_by_hazards/nata2014v2_national_kidnhi_by_tract_poll.csv\")\n",
    "nata_liver = pd.read_csv(\"../Output/NATA_assessment_results_by_hazards/nata2014v2_national_liverhi_by_tract_poll.csv\")\n",
    "nata_neuro = pd.read_csv(\"../Output/NATA_assessment_results_by_hazards/nata2014v2_national_neurhi_by_tract_poll.csv\")\n",
    "nata_respiratory = pd.read_csv(\"../Output/NATA_assessment_results_by_hazards/nata2014v2_national_resphi_by_tract_poll.csv\")\n"
   ]
  },
  {
   "cell_type": "markdown",
   "metadata": {},
   "source": [
    "# Analysis & Workings"
   ]
  },
  {
   "cell_type": "code",
   "execution_count": null,
   "metadata": {},
   "outputs": [],
   "source": [
    "good_days = aqi_df[\"Good Days\"] + aqi_df[\"Moderate Days\"]\n",
    "unhealthy_hazardous_days = aqi_df[\"Unhealthy Days\"] + aqi_df[\"Very Unhealthy Days\"] + aqi_df[\"Hazardous Days\"] + aqi_df[\"Unhealthy for Sensitive Groups Days\"]     \n",
    "\n",
    "aqi_df[\"Total Good & Moderate Days\"] = good_days\n",
    "aqi_df[\"Unhealthy & Hazardous Days\"] = unhealthy_hazardous_days\n",
    "aqi_df.head()"
   ]
  },
  {
   "cell_type": "code",
   "execution_count": null,
   "metadata": {},
   "outputs": [],
   "source": [
    "#use loc function to bring in only those rows pertaining to TriState\n",
    "nj_state_aqi = aqi_df.loc[aqi_df[\"State\"] == \"New Jersey\"] \n",
    "ny_state_aqi = aqi_df.loc[aqi_df[\"State\"] == \"New York\"] \n",
    "ct_state_aqi = aqi_df.loc[aqi_df[\"State\"] == \"Connecticut\"] \n",
    "tri_state_df = pd.concat([nj_state_aqi, ny_state_aqi, ct_state_aqi])\n",
    "summarized_tri_state_df = tri_state_df[[\"State\", \"County\", \"Year\" , \"Total Good & Moderate Days\", \"Unhealthy & Hazardous Days\"]]\n",
    "plot_df = summarized_tri_state_df.groupby(\"Year\").mean()\n",
    "plot_df"
   ]
  },
  {
   "cell_type": "code",
   "execution_count": null,
   "metadata": {},
   "outputs": [],
   "source": [
    "x_axis = np.arange(1980, 2020, 1)\n",
    "plt.scatter(x_axis, plot_df[\"Total Good & Moderate Days\"], color='green', alpha=0.5, s=100)\n",
    "plt.scatter(x_axis, plot_df[\"Unhealthy & Hazardous Days\"], color='red', alpha=0.5, s=50)\n",
    "#plt.plot(x_axis, plot_df[\"Unhealthy for Sensitive Groups Days\"], color='orange')"
   ]
  },
  {
   "cell_type": "code",
   "execution_count": 2,
   "metadata": {},
   "outputs": [],
   "source": [
    "no2_df = pd.read_csv(\"../Output/no2_compiled.csv\", low_memory=False)"
   ]
  },
  {
   "cell_type": "code",
   "execution_count": 16,
   "metadata": {},
   "outputs": [
    {
     "data": {
      "text/plain": [
       "0          2009\n",
       "1          2009\n",
       "2          2009\n",
       "3          2009\n",
       "4          2009\n",
       "           ... \n",
       "1530735    2019\n",
       "1530736    2019\n",
       "1530737    2019\n",
       "1530738    2019\n",
       "1530739    2019\n",
       "Name: Year, Length: 1530740, dtype: int64"
      ]
     },
     "execution_count": 16,
     "metadata": {},
     "output_type": "execute_result"
    }
   ],
   "source": [
    "no2_df[\"Date Local\"] = pd.to_datetime(no2_df[\"Date Local\"])\n",
    "no2_df[\"Year\"] = no2_df[\"Date Local\"].values.astype(\"datetime64[Y]\")\n",
    "no2_df[\"Year\"] = pd.DatetimeIndex(no2_df['Date Local']).year\n",
    "no2_df[\"Year\"]"
   ]
  },
  {
   "cell_type": "code",
   "execution_count": 17,
   "metadata": {},
   "outputs": [
    {
     "data": {
      "text/plain": [
       "State Code                      int64\n",
       "County Code                     int64\n",
       "Site Num                        int64\n",
       "Parameter Code                  int64\n",
       "POC                             int64\n",
       "Latitude                      float64\n",
       "Longitude                     float64\n",
       "Datum                          object\n",
       "Parameter Name                 object\n",
       "Sample Duration                object\n",
       "Pollutant Standard             object\n",
       "Date Local             datetime64[ns]\n",
       "Units of Measure               object\n",
       "Event Type                     object\n",
       "Observation Count               int64\n",
       "Observation Percent           float64\n",
       "Arithmetic Mean               float64\n",
       "1st Max Value                 float64\n",
       "1st Max Hour                    int64\n",
       "AQI                             int64\n",
       "Method Code                     int64\n",
       "Method Name                    object\n",
       "Local Site Name                object\n",
       "Address                        object\n",
       "State Name                     object\n",
       "County Name                    object\n",
       "City Name                      object\n",
       "CBSA Name                      object\n",
       "Date of Last Change            object\n",
       "Year                            int64\n",
       "dtype: object"
      ]
     },
     "execution_count": 17,
     "metadata": {},
     "output_type": "execute_result"
    }
   ],
   "source": [
    "no2_df.dtypes"
   ]
  },
  {
   "cell_type": "code",
   "execution_count": null,
   "metadata": {},
   "outputs": [],
   "source": []
  }
 ],
 "metadata": {
  "kernelspec": {
   "display_name": "Python 3",
   "language": "python",
   "name": "python3"
  },
  "language_info": {
   "codemirror_mode": {
    "name": "ipython",
    "version": 3
   },
   "file_extension": ".py",
   "mimetype": "text/x-python",
   "name": "python",
   "nbconvert_exporter": "python",
   "pygments_lexer": "ipython3",
   "version": "3.6.9"
  }
 },
 "nbformat": 4,
 "nbformat_minor": 2
}
