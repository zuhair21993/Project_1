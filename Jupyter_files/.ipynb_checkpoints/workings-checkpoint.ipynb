{
 "cells": [
  {
   "cell_type": "markdown",
   "metadata": {},
   "source": [
    "# Importing Dependencies"
   ]
  },
  {
   "cell_type": "code",
   "execution_count": null,
   "metadata": {},
   "outputs": [],
   "source": [
    "%matplotlib notebook\n",
    "%matplotlib inline"
   ]
  },
  {
   "cell_type": "code",
   "execution_count": null,
   "metadata": {},
   "outputs": [],
   "source": [
    "import os\n",
    "import glob\n",
    "import csv\n",
    "import pandas as pd\n",
    "import numpy as np\n",
    "import matplotlib.pyplot as plt\n",
    "from scipy.stats import linregress\n",
    "from zipfile import ZipFile\n",
    "from urllib.request import urlopen"
   ]
  },
  {
   "cell_type": "markdown",
   "metadata": {},
   "source": [
    "# Reading Files & Creating DataFrames"
   ]
  },
  {
   "cell_type": "code",
   "execution_count": null,
   "metadata": {},
   "outputs": [],
   "source": [
    "#Reading NATA assessments results \n",
    "nata_summary = pd.read_csv(\"../Resources/NATA_assessment_results_by_hazards/nata2014v2_national_allhi.csv\")\n",
    "nata_cancer = pd.read_csv(\"../Resources/NATA_assessment_results_by_hazards/nata2014v2_national_cancerrisk_by_tract_poll.csv\")\n",
    "nata_immune = pd.read_csv(\"../Resources/NATA_assessment_results_by_hazards/nata2014v2_national_immuhi_by_tract_poll.csv\")\n",
    "nata_kidney = pd.read_csv(\"../Resources/NATA_assessment_results_by_hazards/nata2014v2_national_kidnhi_by_tract_poll.csv\")\n",
    "nata_liver = pd.read_csv(\"../Resources/NATA_assessment_results_by_hazards/nata2014v2_national_liverhi_by_tract_poll.csv\")\n",
    "nata_neuro = pd.read_csv(\"../Resources/NATA_assessment_results_by_hazards/nata2014v2_national_neurhi_by_tract_poll.csv\")\n",
    "nata_respiratory = pd.read_csv(\"../Resources/NATA_assessment_results_by_hazards/nata2014v2_national_resphi_by_tract_poll.csv\")\n"
   ]
  },
  {
   "cell_type": "markdown",
   "metadata": {},
   "source": [
    "# Concatenation of large number of CSV Files\n",
    "      "
   ]
  },
  {
   "cell_type": "code",
   "execution_count": null,
   "metadata": {},
   "outputs": [],
   "source": [
    "# Concatenating AQI Files for the last 40 years\n",
    "#https://www.youtube.com/watch?v=KoRT-v0SzMs\n",
    "\n",
    "def concatenate(indir, outfile):\n",
    "    os.chdir(indir)\n",
    "    fileList = glob.glob(\"*.csv\")\n",
    "    dfList = []\n",
    "    for filename in fileList:\n",
    "        #print(filename) \"commented out to avoid being printed on terminal\"\n",
    "        df = pd.read_csv(filename)\n",
    "        dfList.append(df)\n",
    "    concatDF = pd.concat(dfList, axis=0)\n",
    "    concatDF.to_csv(outfile, index=None)\n",
    "\n",
    "aqi_dir = \"C:/BootCamp resources/Class work/Project _1/Still_Breathing-Project_1-/Resources/annual_aqi_county\"\n",
    "aqi_output = \"C:/BootCamp resources/Class work/Project _1/Still_Breathing-Project_1-/Output/annual_aqi.csv\"\n",
    "concatenate(aqi_dir, aqi_output)\n",
    "\n",
    "emission_dir = \"C:/BootCamp resources/Class work/Project _1/Still_Breathing-Project_1-/Resources/emissions_by_state\"\n",
    "emission_output = \"C:/BootCamp resources/Class work/Project _1/Still_Breathing-Project_1-/Output/emissions_by_state.csv\"\n",
    "concatenate(emission_dir, emission_output)\n"
   ]
  },
  {
   "cell_type": "code",
   "execution_count": 2,
   "metadata": {},
   "outputs": [],
   "source": [
    "#https://www.youtube.com/watch?v=z0gguhEmWiY\n",
    "import requests\n",
    "import zipfile\n",
    "\n",
    "def zip_download(query_url, out_file):\n",
    "    r = requests.get(query_url)\n",
    "    with open('data.zip', 'wb') as f:\n",
    "        f.write(r.content)\n",
    "        f.close()\n",
    "    with zipfile.ZipFile('data.zip', 'r') as data_zip:\n",
    "        data_zip.extractall(out_file)\n",
    "\n",
    "#Downloading Ozone Gas Deta\n",
    "for i in range(1980, 2020):\n",
    "    url = \"https://aqs.epa.gov/aqsweb/airdata/daily_44201_{}.zip\".format(i)\n",
    "    out_file = \"../Resources/daily_gases_data/ozone/\"\n",
    "    zip_download(url, out_file)"
   ]
  },
  {
   "cell_type": "code",
   "execution_count": null,
   "metadata": {},
   "outputs": [],
   "source": []
  }
 ],
 "metadata": {
  "kernelspec": {
   "display_name": "Python 3",
   "language": "python",
   "name": "python3"
  },
  "language_info": {
   "codemirror_mode": {
    "name": "ipython",
    "version": 3
   },
   "file_extension": ".py",
   "mimetype": "text/x-python",
   "name": "python",
   "nbconvert_exporter": "python",
   "pygments_lexer": "ipython3",
   "version": "3.6.9"
  }
 },
 "nbformat": 4,
 "nbformat_minor": 2
}
